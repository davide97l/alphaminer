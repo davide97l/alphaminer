{
 "cells": [
  {
   "cell_type": "code",
   "execution_count": 14,
   "id": "e38cb8ab",
   "metadata": {},
   "outputs": [
    {
     "ename": "ModuleNotFoundError",
     "evalue": "No module named 'alphaminer'",
     "output_type": "error",
     "traceback": [
      "\u001b[0;31m---------------------------------------------------------------------------\u001b[0m",
      "\u001b[0;31mModuleNotFoundError\u001b[0m                       Traceback (most recent call last)",
      "Input \u001b[0;32mIn [14]\u001b[0m, in \u001b[0;36m<cell line: 6>\u001b[0;34m()\u001b[0m\n\u001b[1;32m      3\u001b[0m \u001b[38;5;28;01mfrom\u001b[39;00m \u001b[38;5;21;01mos\u001b[39;00m \u001b[38;5;28;01mimport\u001b[39;00m path \u001b[38;5;28;01mas\u001b[39;00m osp\n\u001b[1;32m      5\u001b[0m \u001b[38;5;28;01mfrom\u001b[39;00m \u001b[38;5;21;01mding\u001b[39;00m\u001b[38;5;21;01m.\u001b[39;00m\u001b[38;5;21;01mutils\u001b[39;00m \u001b[38;5;28;01mimport\u001b[39;00m set_pkg_seed\n\u001b[0;32m----> 6\u001b[0m \u001b[38;5;28;01mfrom\u001b[39;00m \u001b[38;5;21;01malphaminer\u001b[39;00m\u001b[38;5;21;01m.\u001b[39;00m\u001b[38;5;21;01mrl\u001b[39;00m\u001b[38;5;21;01m.\u001b[39;00m\u001b[38;5;21;01mding_env\u001b[39;00m \u001b[38;5;28;01mimport\u001b[39;00m DingTradingEnv\n\u001b[1;32m      7\u001b[0m \u001b[38;5;28;01mimport\u001b[39;00m \u001b[38;5;21;01mqlib\u001b[39;00m\n",
      "\u001b[0;31mModuleNotFoundError\u001b[0m: No module named 'alphaminer'"
     ]
    }
   ],
   "source": [
    "import numpy as np\n",
    "from easydict import EasyDict\n",
    "from os import path as osp\n",
    "\n",
    "from ding.utils import set_pkg_seed\n",
    "from alphaminer.rl.ding_env import DingTradingEnv\n",
    "import qlib"
   ]
  },
  {
   "cell_type": "code",
   "execution_count": 11,
   "id": "6fc8af44",
   "metadata": {},
   "outputs": [
    {
     "name": "stdout",
     "output_type": "stream",
     "text": [
      "/Users/weiyuhui/Desktop/projects/alphaminer/alphaminer/rl/entry\r\n"
     ]
    },
    {
     "ename": "ImportError",
     "evalue": "attempted relative import with no known parent package",
     "output_type": "error",
     "traceback": [
      "\u001b[0;31m---------------------------------------------------------------------------\u001b[0m",
      "\u001b[0;31mImportError\u001b[0m                               Traceback (most recent call last)",
      "Input \u001b[0;32mIn [11]\u001b[0m, in \u001b[0;36m<cell line: 4>\u001b[0;34m()\u001b[0m\n\u001b[1;32m      1\u001b[0m get_ipython()\u001b[38;5;241m.\u001b[39msystem(\u001b[38;5;124m'\u001b[39m\u001b[38;5;124mpwd\u001b[39m\u001b[38;5;124m'\u001b[39m)\n\u001b[1;32m      2\u001b[0m \u001b[38;5;66;03m#!pip install -e ../../../\u001b[39;00m\n\u001b[1;32m      3\u001b[0m \u001b[38;5;66;03m#!pip freeze\u001b[39;00m\n\u001b[0;32m----> 4\u001b[0m \u001b[38;5;28;01mfrom\u001b[39;00m \u001b[38;5;21;01m.\u001b[39;00m\u001b[38;5;21;01malphaminer\u001b[39;00m \u001b[38;5;28;01mimport\u001b[39;00m alphaminer\n",
      "\u001b[0;31mImportError\u001b[0m: attempted relative import with no known parent package"
     ]
    }
   ],
   "source": [
    "!pwd\n",
    "#!pip install -e ../../../\n",
    "#!pip freeze\n",
    "from .alphaminer import alphaminer"
   ]
  },
  {
   "cell_type": "code",
   "execution_count": 17,
   "id": "f005129e",
   "metadata": {},
   "outputs": [
    {
     "name": "stderr",
     "output_type": "stream",
     "text": [
      "[47534:MainThread](2023-02-20 19:43:01,760) INFO - qlib.Initialization - [config.py:416] - default_conf: client.\n"
     ]
    },
    {
     "data": {
      "text/html": [
       "<pre style=\"white-space:pre;overflow-x:auto;line-height:normal;font-family:Menlo,'DejaVu Sans Mono',consolas,'Courier New',monospace\"><span style=\"color: #7fbfbf; text-decoration-color: #7fbfbf\">[02-20 19:43:01] </span><span style=\"color: #000080; text-decoration-color: #000080\">INFO    </span> default_conf: client.                                                                                                              <a href=\"file:///Users/weiyuhui/miniconda3/lib/python3.8/site-packages/qlib/config.py\" target=\"_blank\"><span style=\"color: #7f7f7f; text-decoration-color: #7f7f7f\">config.py</span></a><span style=\"color: #7f7f7f; text-decoration-color: #7f7f7f\">:</span><a href=\"file:///Users/weiyuhui/miniconda3/lib/python3.8/site-packages/qlib/config.py#416\" target=\"_blank\"><span style=\"color: #7f7f7f; text-decoration-color: #7f7f7f\">416</span></a>\n",
       "</pre>\n"
      ],
      "text/plain": [
       "\u001b[2;36m[02-20 19:43:01]\u001b[0m\u001b[2;36m \u001b[0m\u001b[34mINFO    \u001b[0m default_conf: client.                                                                                                              \u001b]8;id=95046;file:///Users/weiyuhui/miniconda3/lib/python3.8/site-packages/qlib/config.py\u001b\\\u001b[2mconfig.py\u001b[0m\u001b]8;;\u001b\\\u001b[2m:\u001b[0m\u001b]8;id=955227;file:///Users/weiyuhui/miniconda3/lib/python3.8/site-packages/qlib/config.py#416\u001b\\\u001b[2m416\u001b[0m\u001b]8;;\u001b\\\n"
      ]
     },
     "metadata": {},
     "output_type": "display_data"
    },
    {
     "name": "stderr",
     "output_type": "stream",
     "text": [
      "[47534:MainThread](2023-02-20 19:43:01,775) INFO - qlib.Initialization - [__init__.py:74] - qlib successfully initialized based on client settings.\n"
     ]
    },
    {
     "data": {
      "text/html": [
       "<pre style=\"white-space:pre;overflow-x:auto;line-height:normal;font-family:Menlo,'DejaVu Sans Mono',consolas,'Courier New',monospace\"><span style=\"color: #7fbfbf; text-decoration-color: #7fbfbf\">[02-20 19:43:01] </span><span style=\"color: #000080; text-decoration-color: #000080\">INFO    </span> qlib successfully initialized based on client settings.                                                                           <a href=\"file:///Users/weiyuhui/miniconda3/lib/python3.8/site-packages/qlib/__init__.py\" target=\"_blank\"><span style=\"color: #7f7f7f; text-decoration-color: #7f7f7f\">__init__.py</span></a><span style=\"color: #7f7f7f; text-decoration-color: #7f7f7f\">:</span><a href=\"file:///Users/weiyuhui/miniconda3/lib/python3.8/site-packages/qlib/__init__.py#74\" target=\"_blank\"><span style=\"color: #7f7f7f; text-decoration-color: #7f7f7f\">74</span></a>\n",
       "</pre>\n"
      ],
      "text/plain": [
       "\u001b[2;36m[02-20 19:43:01]\u001b[0m\u001b[2;36m \u001b[0m\u001b[34mINFO    \u001b[0m qlib successfully initialized based on client settings.                                                                           \u001b]8;id=36622;file:///Users/weiyuhui/miniconda3/lib/python3.8/site-packages/qlib/__init__.py\u001b\\\u001b[2m__init__.py\u001b[0m\u001b]8;;\u001b\\\u001b[2m:\u001b[0m\u001b]8;id=704185;file:///Users/weiyuhui/miniconda3/lib/python3.8/site-packages/qlib/__init__.py#74\u001b\\\u001b[2m74\u001b[0m\u001b]8;;\u001b\\\n"
      ]
     },
     "metadata": {},
     "output_type": "display_data"
    },
    {
     "name": "stderr",
     "output_type": "stream",
     "text": [
      "[47534:MainThread](2023-02-20 19:43:01,780) INFO - qlib.Initialization - [__init__.py:76] - data_path={'__DEFAULT_FREQ': PosixPath('/Users/weiyuhui/.qlib/qlib_data/cn_data')}\n"
     ]
    },
    {
     "data": {
      "text/html": [
       "<pre style=\"white-space:pre;overflow-x:auto;line-height:normal;font-family:Menlo,'DejaVu Sans Mono',consolas,'Courier New',monospace\"><span style=\"color: #7fbfbf; text-decoration-color: #7fbfbf\">[02-20 19:43:01] </span><span style=\"color: #000080; text-decoration-color: #000080\">INFO    </span> <span style=\"color: #808000; text-decoration-color: #808000\">data_path</span>=<span style=\"font-weight: bold\">{</span><span style=\"color: #008000; text-decoration-color: #008000\">'__DEFAULT_FREQ'</span>: <span style=\"color: #800080; text-decoration-color: #800080; font-weight: bold\">PosixPath</span><span style=\"font-weight: bold\">(</span><span style=\"color: #008000; text-decoration-color: #008000\">'/Users/weiyuhui/.qlib/qlib_data/cn_data'</span><span style=\"font-weight: bold\">)}</span>                                                <a href=\"file:///Users/weiyuhui/miniconda3/lib/python3.8/site-packages/qlib/__init__.py\" target=\"_blank\"><span style=\"color: #7f7f7f; text-decoration-color: #7f7f7f\">__init__.py</span></a><span style=\"color: #7f7f7f; text-decoration-color: #7f7f7f\">:</span><a href=\"file:///Users/weiyuhui/miniconda3/lib/python3.8/site-packages/qlib/__init__.py#76\" target=\"_blank\"><span style=\"color: #7f7f7f; text-decoration-color: #7f7f7f\">76</span></a>\n",
       "</pre>\n"
      ],
      "text/plain": [
       "\u001b[2;36m[02-20 19:43:01]\u001b[0m\u001b[2;36m \u001b[0m\u001b[34mINFO    \u001b[0m \u001b[33mdata_path\u001b[0m=\u001b[1m{\u001b[0m\u001b[32m'__DEFAULT_FREQ'\u001b[0m: \u001b[1;35mPosixPath\u001b[0m\u001b[1m(\u001b[0m\u001b[32m'/Users/weiyuhui/.qlib/qlib_data/cn_data'\u001b[0m\u001b[1m)\u001b[0m\u001b[1m}\u001b[0m                                                \u001b]8;id=371862;file:///Users/weiyuhui/miniconda3/lib/python3.8/site-packages/qlib/__init__.py\u001b\\\u001b[2m__init__.py\u001b[0m\u001b]8;;\u001b\\\u001b[2m:\u001b[0m\u001b]8;id=248313;file:///Users/weiyuhui/miniconda3/lib/python3.8/site-packages/qlib/__init__.py#76\u001b\\\u001b[2m76\u001b[0m\u001b]8;;\u001b\\\n"
      ]
     },
     "metadata": {},
     "output_type": "display_data"
    },
    {
     "ename": "NameError",
     "evalue": "name 'DingTradingEnv' is not defined",
     "output_type": "error",
     "traceback": [
      "\u001b[0;31m---------------------------------------------------------------------------\u001b[0m",
      "\u001b[0;31mNameError\u001b[0m                                 Traceback (most recent call last)",
      "Input \u001b[0;32mIn [17]\u001b[0m, in \u001b[0;36m<cell line: 33>\u001b[0;34m()\u001b[0m\n\u001b[1;32m     30\u001b[0m             \u001b[38;5;28;01mbreak\u001b[39;00m\n\u001b[1;32m     32\u001b[0m alpha \u001b[38;5;241m=\u001b[39m \u001b[38;5;124m'\u001b[39m\u001b[38;5;124m158+\u001b[39m\u001b[38;5;124m'\u001b[39m\n\u001b[0;32m---> 33\u001b[0m \u001b[43minit_alpha_csi500\u001b[49m\u001b[43m(\u001b[49m\u001b[43malpha\u001b[49m\u001b[43m)\u001b[49m\n",
      "Input \u001b[0;32mIn [17]\u001b[0m, in \u001b[0;36minit_alpha_csi500\u001b[0;34m(alpha)\u001b[0m\n\u001b[1;32m      5\u001b[0m config \u001b[38;5;241m=\u001b[39m EasyDict(alpha_config)\n\u001b[1;32m      6\u001b[0m config\u001b[38;5;241m.\u001b[39mdata_handler\u001b[38;5;241m.\u001b[39mtype \u001b[38;5;241m=\u001b[39m \u001b[38;5;124m'\u001b[39m\u001b[38;5;124malpha\u001b[39m\u001b[38;5;124m'\u001b[39m \u001b[38;5;241m+\u001b[39m alpha\n\u001b[0;32m----> 7\u001b[0m env \u001b[38;5;241m=\u001b[39m \u001b[43mDingTradingEnv\u001b[49m(config)\n\u001b[1;32m      8\u001b[0m env\u001b[38;5;241m.\u001b[39mseed(\u001b[38;5;241m1234\u001b[39m)\n\u001b[1;32m      9\u001b[0m env\u001b[38;5;241m.\u001b[39mreset()\n",
      "\u001b[0;31mNameError\u001b[0m: name 'DingTradingEnv' is not defined"
     ]
    }
   ],
   "source": [
    "def init_alpha_csi500(alpha):\n",
    "    alpha_obs = {'518': 518, '158': 158, '360': 360, '158+': 203}\n",
    "    qlib.init()\n",
    "    set_pkg_seed(1234, use_cuda=False)\n",
    "    config = EasyDict(alpha_config)\n",
    "    config.data_handler.type = 'alpha' + alpha\n",
    "    env = DingTradingEnv(config)\n",
    "    env.seed(1234)\n",
    "    env.reset()\n",
    "    action_dim = env.action_space.shape\n",
    "    final_eval_reward = np.array([0.], dtype=np.float32)\n",
    "\n",
    "    while True:\n",
    "        action = np.random.random(size=action_dim)\n",
    "        timestep = env.step(action)\n",
    "        print(timestep.obs.shape)\n",
    "        assert timestep.obs.shape[0] == 3 * alpha_obs[alpha]\n",
    "        final_eval_reward += timestep.reward\n",
    "        #print(\"{}(dtype: {})\".format(timestep.reward, timestep.reward.dtype))\n",
    "        if timestep.done:\n",
    "            print(\n",
    "                \"{}({}), {}({})\".format(\n",
    "                    timestep.info['eval_episode_return'], type(timestep.info['eval_episode_return']), final_eval_reward,\n",
    "                    type(final_eval_reward)\n",
    "                )\n",
    "            )\n",
    "            # timestep.reward and the cumulative reward in wrapper FinalEvalReward are not the same.\n",
    "            assert abs(timestep.info['eval_episode_return'].item() - final_eval_reward.item()) / \\\n",
    "                   abs(timestep.info['eval_episode_return'].item()) < 1e-5\n",
    "            break\n",
    "\n",
    "alpha = '158+'\n",
    "init_alpha_csi500(alpha)"
   ]
  },
  {
   "cell_type": "code",
   "execution_count": 16,
   "id": "d8ecd625",
   "metadata": {},
   "outputs": [],
   "source": [
    "start_time = \"2019-01-02\"\n",
    "end_time = \"2019-10-10\"\n",
    "\n",
    "alpha_config = dict(\n",
    "    env_id='Trading-v0',\n",
    "    max_episode_steps=0,\n",
    "    cash=1000000,\n",
    "    start_date=start_time,\n",
    "    end_date=end_time,\n",
    "    market='csi500',\n",
    "    random_sample=False,\n",
    "    strategy=dict(buy_top_n=10, ),\n",
    "    data_handler=dict(\n",
    "        type='alpha158',\n",
    "        instruments='csi500',\n",
    "        start_time=start_time,\n",
    "        end_time=end_time,\n",
    "        fit_start_time=start_time,\n",
    "        fit_end_time=end_time,\n",
    "    )\n",
    ")"
   ]
  },
  {
   "cell_type": "code",
   "execution_count": null,
   "id": "16068c54",
   "metadata": {},
   "outputs": [],
   "source": []
  }
 ],
 "metadata": {
  "kernelspec": {
   "display_name": "venv",
   "language": "python",
   "name": "venv"
  },
  "language_info": {
   "codemirror_mode": {
    "name": "ipython",
    "version": 3
   },
   "file_extension": ".py",
   "mimetype": "text/x-python",
   "name": "python",
   "nbconvert_exporter": "python",
   "pygments_lexer": "ipython3",
   "version": "3.8.12"
  }
 },
 "nbformat": 4,
 "nbformat_minor": 5
}
